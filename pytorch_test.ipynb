{
  "nbformat": 4,
  "nbformat_minor": 0,
  "metadata": {
    "colab": {
      "provenance": []
    },
    "kernelspec": {
      "name": "python3",
      "display_name": "Python 3"
    },
    "language_info": {
      "name": "python"
    }
  },
  "cells": [
    {
      "cell_type": "code",
      "execution_count": 1,
      "metadata": {
        "id": "K8f_ObI94wTW"
      },
      "outputs": [],
      "source": [
        "import os\n",
        "from tqdm import tqdm\n",
        "\n",
        "import pandas as pd\n",
        "import numpy as np\n",
        "\n",
        "import torch\n",
        "import torch.nn as nn\n",
        "\n",
        "from torch.utils.data import Dataset, DataLoader\n",
        "\n",
        "from sklearn.model_selection import train_test_split"
      ]
    },
    {
      "cell_type": "code",
      "source": [
        "X_train = torch.randn(100,2)\n",
        "Y_train = torch.tensor([[(a.item()+b.item())/2] for a,b in X_train])\n",
        "X_test = torch.randn(100,2)\n",
        "Y_test = torch.tensor([[(a.item()+b.item())/2] for a,b in X_test])\n",
        "print(X_train[:5])\n",
        "print(Y_train[:5])"
      ],
      "metadata": {
        "colab": {
          "base_uri": "https://localhost:8080/"
        },
        "id": "cL2bZwoZFCb4",
        "outputId": "af7e9efc-a665-4c0f-f161-0609dee3a023"
      },
      "execution_count": 148,
      "outputs": [
        {
          "output_type": "stream",
          "name": "stdout",
          "text": [
            "tensor([[ 0.3335, -0.7630],\n",
            "        [ 1.0933, -0.9819],\n",
            "        [-0.5483, -0.7565],\n",
            "        [-0.5008,  0.1574],\n",
            "        [ 0.1913, -0.7973]])\n",
            "tensor([[-0.2147],\n",
            "        [ 0.0557],\n",
            "        [-0.6524],\n",
            "        [-0.1717],\n",
            "        [-0.3030]])\n"
          ]
        }
      ]
    },
    {
      "cell_type": "code",
      "source": [
        "class myDataset(Dataset):\n",
        "  def __init__(self,X,Y):\n",
        "    self.X=X\n",
        "    self.Y=Y\n",
        "  def __getitem__(self,index):\n",
        "    return self.X[index], self.Y[index]\n",
        "  def __len__(self):\n",
        "    return len(self.X)"
      ],
      "metadata": {
        "id": "Zb_gUNbr41bM"
      },
      "execution_count": 145,
      "outputs": []
    },
    {
      "cell_type": "code",
      "source": [
        "class myModel(nn.Module):\n",
        "  def __init__(self):\n",
        "    super().__init__()\n",
        "    self.fc1 = nn.Linear(2,10)\n",
        "    self.relu = nn.ReLU()\n",
        "    self.fc2 = nn.Linear(10,1)\n",
        "  def forward(self,x):\n",
        "    x = self.fc1(x)\n",
        "    x = self.relu(x)\n",
        "    x = self.fc2(x)\n",
        "    return x"
      ],
      "metadata": {
        "id": "EqgHAF5Z8Hs4"
      },
      "execution_count": 146,
      "outputs": []
    },
    {
      "cell_type": "code",
      "source": [
        "EPOCHS = 1000\n",
        "BATCH_SIZE = 32"
      ],
      "metadata": {
        "id": "TdzOVmgSFY2r"
      },
      "execution_count": 147,
      "outputs": []
    },
    {
      "cell_type": "code",
      "source": [
        "def train(model, data_loader, loss_fn, optimizer):\n",
        "  model.train()\n",
        "  for epoch in range(EPOCHS):\n",
        "    running_loss = 0\n",
        "    for x,y in data_loader:\n",
        "      optimizer.zero_grad()\n",
        "      y_pred = model(x)\n",
        "      loss = loss_fn(y_pred,y)\n",
        "      loss.backward()\n",
        "      optimizer.step()\n",
        "      running_loss += loss.item()\n",
        "    running_loss /= len(data_loader)\n",
        "    if epoch % 100 == 0:\n",
        "      print(f'Epoch [{epoch+1}/{EPOCHS}], Loss: {running_loss:.4f}')\n",
        "\n",
        "def test(model, data_loader, loss_fn):\n",
        "  running_loss = 0\n",
        "  model.eval()\n",
        "  gt = None\n",
        "  pred = None\n",
        "  with torch.no_grad():\n",
        "    for x,y in data_loader:\n",
        "      y_pred = model(x)\n",
        "      gt = y if gt is None else torch.cat((gt,y))\n",
        "      pred = y_pred if pred is None else torch.cat((pred,y_pred))\n",
        "      loss = loss_fn(y_pred,y)\n",
        "      running_loss += loss.item()\n",
        "  return gt, pred, running_loss/len(data_loader)"
      ],
      "metadata": {
        "id": "78nFKDQzY_S-"
      },
      "execution_count": 158,
      "outputs": []
    },
    {
      "cell_type": "code",
      "source": [
        "datasets = {\n",
        "  \"train\" : myDataset(X_train, Y_train),\n",
        "  \"test\" : myDataset(X_test, Y_test)\n",
        "}\n",
        "dataloaders = {\n",
        "  \"train\" : DataLoader(datasets[\"train\"],batch_size=BATCH_SIZE,shuffle=True),\n",
        "  \"test\" : DataLoader(datasets[\"test\"],batch_size=BATCH_SIZE,shuffle=False)\n",
        "}\n",
        "\n",
        "model = myModel()\n",
        "loss_fn = nn.MSELoss()\n",
        "optimizer = torch.optim.SGD(model.parameters(), lr=0.01)"
      ],
      "metadata": {
        "id": "T3B3D-KgFe8W"
      },
      "execution_count": 160,
      "outputs": []
    },
    {
      "cell_type": "code",
      "source": [
        "train(model,dataloaders[\"train\"],loss_fn,optimizer)"
      ],
      "metadata": {
        "colab": {
          "base_uri": "https://localhost:8080/"
        },
        "id": "btmDthhZc-5_",
        "outputId": "6cefad57-ec63-4ea8-c742-867069f2f466"
      },
      "execution_count": 190,
      "outputs": [
        {
          "output_type": "stream",
          "name": "stdout",
          "text": [
            "Epoch [1/1000], Loss: 0.0000\n",
            "Epoch [101/1000], Loss: 0.0000\n",
            "Epoch [201/1000], Loss: 0.0000\n",
            "Epoch [301/1000], Loss: 0.0000\n",
            "Epoch [401/1000], Loss: 0.0000\n",
            "Epoch [501/1000], Loss: 0.0000\n",
            "Epoch [601/1000], Loss: 0.0000\n",
            "Epoch [701/1000], Loss: 0.0000\n",
            "Epoch [801/1000], Loss: 0.0000\n",
            "Epoch [901/1000], Loss: 0.0000\n"
          ]
        }
      ]
    },
    {
      "cell_type": "code",
      "source": [
        "gt, pred, loss = test(model,dataloaders[\"test\"],loss_fn)\n",
        "print(\"loss:\",loss)\n",
        "print(gt[:5])\n",
        "print(pred[:5])"
      ],
      "metadata": {
        "colab": {
          "base_uri": "https://localhost:8080/"
        },
        "id": "7U8D_Xynb27V",
        "outputId": "9dbf002b-8dbb-484c-c805-e5a1f12ab5ff"
      },
      "execution_count": 191,
      "outputs": [
        {
          "output_type": "stream",
          "name": "stdout",
          "text": [
            "loss: 8.896838210148417e-06\n",
            "tensor([[ 0.1892],\n",
            "        [-0.1273],\n",
            "        [-0.0722],\n",
            "        [-0.2635],\n",
            "        [ 0.9604]])\n",
            "tensor([[ 0.1886],\n",
            "        [-0.1269],\n",
            "        [-0.0714],\n",
            "        [-0.2618],\n",
            "        [ 0.9585]])\n"
          ]
        }
      ]
    },
    {
      "cell_type": "code",
      "source": [
        "X_test = torch.randn(5,2)\n",
        "Y_test = torch.tensor([[(a.item()+b.item())/2] for a,b in X_test])\n",
        "Y_test_pred = model(X_test)\n",
        "for i in range(5):\n",
        "  print(Y_test[i].item(),\",\",Y_test_pred[i].item())"
      ],
      "metadata": {
        "colab": {
          "base_uri": "https://localhost:8080/"
        },
        "id": "wLfq4oFDGlJI",
        "outputId": "5515c18b-e922-442b-e09c-7457ac29a042"
      },
      "execution_count": 192,
      "outputs": [
        {
          "output_type": "stream",
          "name": "stdout",
          "text": [
            "1.8639471530914307 , 1.8632662296295166\n",
            "-0.9432952404022217 , -0.9463598728179932\n",
            "-0.6888329982757568 , -0.6884360313415527\n",
            "0.2806812822818756 , 0.2807430922985077\n",
            "1.6530423164367676 , 1.651261806488037\n"
          ]
        }
      ]
    }
  ]
}
